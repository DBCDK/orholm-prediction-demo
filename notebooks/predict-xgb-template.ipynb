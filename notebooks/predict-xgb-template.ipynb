{
 "cells": [
  {
   "cell_type": "code",
   "execution_count": null,
   "id": "8fb9c5d2",
   "metadata": {},
   "outputs": [],
   "source": [
    "import pandas as pd\n",
    "import numpy as np\n",
    "import joblib\n",
    "import urllib.request, urllib.parse, urllib.error\n",
    "import tarfile\n",
    "import tempfile\n",
    "import shutil\n",
    "import os\n",
    "import math\n",
    "from datetime import datetime, date, time"
   ]
  },
  {
   "cell_type": "code",
   "execution_count": null,
   "id": "740ac4e6",
   "metadata": {},
   "outputs": [],
   "source": [
    "models_zipped_filename = 'orholm-data-xgb-model.tar.gz'\n",
    "model_low_filename = 'orholm-data-xgb-model-y_low.joblib'\n",
    "model_high_filename = 'orholm-data-xgb-model-y_high.joblib'\n",
    "temp_tar_file = 'O_P_1-files.tar'\n",
    "model_names = ['y_low', 'y_high']"
   ]
  },
  {
   "cell_type": "code",
   "execution_count": null,
   "id": "2dcd9662",
   "metadata": {},
   "outputs": [],
   "source": [
    "def csv_read_days(filename, temparature_col_name, rh_col_name, days=10):\n",
    "    df = pd.read_csv(temp_path + '/' + filename, \n",
    "                      parse_dates=[['date', 'time']], \n",
    "                      skiprows=1, \n",
    "                      names=['date', 'time', temparature_col_name, rh_col_name], \n",
    "                      decimal=',',\n",
    "                      sep='\\t'\n",
    "                     )\n",
    "    df.rename(columns={'date_time':'date'}, inplace=True)\n",
    "    # only save the relevant number of days\n",
    "    df = df.tail(24*days)\n",
    "    df.set_index('date', inplace=True)\n",
    "    return df"
   ]
  },
  {
   "cell_type": "code",
   "execution_count": null,
   "id": "da050488",
   "metadata": {},
   "outputs": [],
   "source": [
    "def ah1(t, rh): # KB\n",
    "    ah = (1322.9*(rh/100)*math.e**(t/(t+238.3)*17.2694) / (t+273.15))\n",
    "    return ah"
   ]
  },
  {
   "cell_type": "code",
   "execution_count": null,
   "id": "1a7365ad",
   "metadata": {},
   "outputs": [],
   "source": [
    "# unzip model joblib files and load models for low and high humidity prediction\n",
    "shutil.unpack_archive(models_zipped_filename)\n",
    "model_low = joblib.load(model_low_filename)\n",
    "model_high = joblib.load(model_high_filename)"
   ]
  },
  {
   "cell_type": "code",
   "execution_count": null,
   "id": "4da0e7a8",
   "metadata": {},
   "outputs": [],
   "source": [
    "# unzip data files to predict from\n",
    "tf = tarfile.open(temp_tar_file)\n",
    "temp_path = tempfile.mkdtemp(dir='.')\n",
    "tf.extractall(temp_path)\n",
    "\n",
    "# read the data files\n",
    "df1 = csv_read_days('O_P_1_001.tdf', 'temp_1', 'rh_1')\n",
    "df2 = csv_read_days('O_P_1_002.tdf', 'temp_2', 'rh_2')\n",
    "df3 = csv_read_days('O_P_1_003.tdf', 'temp_3', 'rh_3')"
   ]
  },
  {
   "cell_type": "code",
   "execution_count": null,
   "id": "d2d567eb",
   "metadata": {},
   "outputs": [],
   "source": [
    "# data files are loaded, now combine and build features used by model\n",
    "df = df1.join([df2, df3], how='inner')\n",
    "\n",
    "# these are all the same aux features we fed into the model builder\n",
    "df['rh_median'] = df[['rh_1', 'rh_2', 'rh_3']].median(axis=1)\n",
    "df['temp_median'] = df[['temp_1', 'temp_2', 'temp_3']].median(axis=1)\n",
    "df['ah_median'] = df.apply(lambda x: ah1(x.temp_median, x.rh_median), axis = 1)\n",
    "df['rh_median_24_mean'] = df.rh_median.rolling(24, min_periods=1).mean()\n",
    "df['rh_median_24_ewm_mean'] = df.rh_median.ewm(span=24).mean()\n",
    "df['rh_median_24_median'] = df.rh_median.rolling(24, min_periods=1).median()\n",
    "df['rh_median_24_min'] = df.rh_median.rolling(24, min_periods=1).min()\n",
    "df['rh_median_24_max'] = df.rh_median.rolling(24, min_periods=1).max()\n",
    "\n",
    "# drop raw columns not used in the model\n",
    "df = df.drop(['temp_1', 'temp_2', 'temp_3', 'rh_1', 'rh_2', 'rh_3'], axis=1)"
   ]
  },
  {
   "cell_type": "code",
   "execution_count": null,
   "id": "b1ad418f",
   "metadata": {},
   "outputs": [],
   "source": [
    "models_dict = {'low': model_low, 'high': model_high}\n",
    "\n",
    "# predict for both the 'high' and 'low' model\n",
    "for key in models_dict:\n",
    "    predictions = models_dict[key].predict(np.array(df))\n",
    "    if predictions.tolist()[-1:][0] > 0:\n",
    "        # ring the bells, sound the alarm, send an email!\n",
    "        print(\"WARNING!\")\n"
   ]
  }
 ],
 "metadata": {
  "kernelspec": {
   "display_name": "Python 3 (ipykernel)",
   "language": "python",
   "name": "python3"
  },
  "language_info": {
   "codemirror_mode": {
    "name": "ipython",
    "version": 3
   },
   "file_extension": ".py",
   "mimetype": "text/x-python",
   "name": "python",
   "nbconvert_exporter": "python",
   "pygments_lexer": "ipython3",
   "version": "3.8.0"
  }
 },
 "nbformat": 4,
 "nbformat_minor": 5
}
